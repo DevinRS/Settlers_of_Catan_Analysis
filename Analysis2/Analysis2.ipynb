{
 "cells": [
  {
   "attachments": {},
   "cell_type": "markdown",
   "metadata": {},
   "source": [
    "# Analysis 2"
   ]
  },
  {
   "attachments": {},
   "cell_type": "markdown",
   "metadata": {},
   "source": [
    "## -- Pre-Processing --"
   ]
  },
  {
   "attachments": {},
   "cell_type": "markdown",
   "metadata": {},
   "source": [
    "Imports: "
   ]
  },
  {
   "cell_type": "code",
   "execution_count": 4,
   "metadata": {},
   "outputs": [],
   "source": [
    "import pandas as pd"
   ]
  },
  {
   "attachments": {},
   "cell_type": "markdown",
   "metadata": {},
   "source": [
    "1. Generate pp3.csv \\\n",
    "\\\n",
    "Columns Kept: ['points', 'settlement1', 'settlement2', 'production'] \\\n",
    "Columns Added: ['win'] \\\n",
    "Filters: Contains only data with harbor settlement"
   ]
  },
  {
   "attachments": {},
   "cell_type": "markdown",
   "metadata": {},
   "source": [
    "2. Generate pp4.csv \\\n",
    "\\\n",
    "Columns Kept: ['points', 'settlement1', 'settlement2', 'production'] \\\n",
    "Columns Added: ['win'] \\\n",
    "Filters: Contains only data without harbor settlement (Dessert are not included)"
   ]
  },
  {
   "cell_type": "code",
   "execution_count": 13,
   "metadata": {},
   "outputs": [],
   "source": [
    "def pp3():\n",
    "    # Load Dataframe\n",
    "    df = pd.read_csv('catanstats.csv')\n",
    "\n",
    "    # Remove Unwanted Features\n",
    "    drop = ['gameNum', 'player', 'me', '2', '3', '4', '5', '6', '7', '8', '9', '10', '11', '12',\n",
    "        'tradeGain', 'robberCardsGain', 'totalGain', 'tradeLoss', 'robberCardsLoss',\n",
    "        'tribute', 'totalLoss', 'totalAvailable']\n",
    "    df.drop(drop, axis=1, inplace=True)\n",
    "\n",
    "    # Add Columns\n",
    "    df['win'] = df['points'].apply(lambda x: 1 if x >= 10 else 0)\n",
    "\n",
    "    # Apply Filters\n",
    "    df = df[((df['Unnamed: 19'] == 0) & (df['Unnamed: 20'] != 'D')) | ((df['Unnamed: 25'] == 0) & (df['Unnamed: 26'] != 'D') & (df['Unnamed: 26'] != 'B'))]\n",
    "\n",
    "    df.to_csv('pp3.csv', index=False)"
   ]
  },
  {
   "cell_type": "code",
   "execution_count": 15,
   "metadata": {},
   "outputs": [],
   "source": [
    "def pp4():\n",
    "    # Load Dataframe\n",
    "    df = pd.read_csv('catanstats.csv')\n",
    "\n",
    "    # Remove Unwanted Features\n",
    "    drop = ['gameNum', 'player', 'me', '2', '3', '4', '5', '6', '7', '8', '9', '10', '11', '12',\n",
    "        'tradeGain', 'robberCardsGain', 'totalGain', 'tradeLoss', 'robberCardsLoss',\n",
    "        'tribute', 'totalLoss', 'totalAvailable']\n",
    "    df.drop(drop, axis=1, inplace=True)\n",
    "\n",
    "    # Add Columns\n",
    "    df['win'] = df['points'].apply(lambda x: 1 if x >= 10 else 0)\n",
    "\n",
    "    # Apply Filters\n",
    "    df = df[(df['Unnamed: 19'] != 0) & (df['Unnamed: 25'] != 0)]\n",
    "\n",
    "    df.to_csv('pp4.csv', index=False)"
   ]
  },
  {
   "cell_type": "code",
   "execution_count": 16,
   "metadata": {},
   "outputs": [],
   "source": [
    "pp3()\n",
    "pp4()"
   ]
  },
  {
   "attachments": {},
   "cell_type": "markdown",
   "metadata": {},
   "source": [
    "PP3 & PP4: Contain data for visual analysis"
   ]
  },
  {
   "attachments": {},
   "cell_type": "markdown",
   "metadata": {},
   "source": [
    "## -- Data Visualization --"
   ]
  },
  {
   "attachments": {},
   "cell_type": "markdown",
   "metadata": {},
   "source": [
    "Comparing average points, win rate, and average productions"
   ]
  },
  {
   "attachments": {},
   "cell_type": "markdown",
   "metadata": {},
   "source": [
    "Imports: "
   ]
  },
  {
   "cell_type": "code",
   "execution_count": 17,
   "metadata": {},
   "outputs": [],
   "source": [
    "import matplotlib.pyplot as plt"
   ]
  },
  {
   "attachments": {},
   "cell_type": "markdown",
   "metadata": {},
   "source": [
    "1. Load datas into dataframes"
   ]
  },
  {
   "cell_type": "code",
   "execution_count": 21,
   "metadata": {},
   "outputs": [],
   "source": [
    "df_harbor = pd.read_csv('pp3.csv')\n",
    "df_notHarbor = pd.read_csv('pp4.csv')"
   ]
  },
  {
   "attachments": {},
   "cell_type": "markdown",
   "metadata": {},
   "source": [
    "2. Calculating values of interest"
   ]
  },
  {
   "cell_type": "code",
   "execution_count": 22,
   "metadata": {},
   "outputs": [
    {
     "name": "stdout",
     "output_type": "stream",
     "text": [
      "HARBOR\n",
      "average points: 6.735294117647059\n",
      "winning percentage: 0.17647058823529413\n",
      "average production: 45.794117647058826\n",
      "\n",
      "NOT HARBOR\n",
      "average points: 7.409090909090909\n",
      "winning percentage: 0.2662337662337662\n",
      "average production: 53.58441558441559\n"
     ]
    }
   ],
   "source": [
    "# Average Points\n",
    "hPoints = df_harbor.mean(numeric_only=True)['points']\n",
    "nhPoints = df_notHarbor.mean(numeric_only=True)['points']\n",
    "# Winning Percentage\n",
    "hWin = df_harbor.mean(numeric_only=True)['win']\n",
    "nhWin = df_notHarbor.mean(numeric_only=True)['win']\n",
    "# Average Production\n",
    "hProd = df_harbor.mean(numeric_only=True)['production']\n",
    "nhProd = df_notHarbor.mean(numeric_only=True)['production']\n",
    "\n",
    "# Prints\n",
    "print('HARBOR')\n",
    "print('average points: ' + (str)(hPoints))\n",
    "print('winning percentage: ' + (str)(hWin))\n",
    "print('average production: ' + (str)(hProd))\n",
    "\n",
    "print()\n",
    "print('NOT HARBOR')\n",
    "print('average points: ' + (str)(nhPoints))\n",
    "print('winning percentage: ' + (str)(nhWin))\n",
    "print('average production: ' + (str)(nhProd))"
   ]
  },
  {
   "attachments": {},
   "cell_type": "markdown",
   "metadata": {},
   "source": [
    "3. Graphing values of interest"
   ]
  },
  {
   "cell_type": "code",
   "execution_count": 23,
   "metadata": {},
   "outputs": [
    {
     "data": {
      "image/png": "[encoded data removed]",
      "text/plain": [
       "<Figure size 1200x400 with 3 Axes>"
      ]
     },
     "metadata": {},
     "output_type": "display_data"
    }
   ],
   "source": [
    "# Create a dataframe\n",
    "graph = pd.DataFrame({'category': ['harbor', 'notHarbor'],\n",
    "                    'avgPoints': [hPoints, nhPoints],\n",
    "                    'winPercentage': [hWin, nhWin],\n",
    "                    'avgProduction': [hProd, nhProd]})\n",
    "\n",
    "# Create a subplot grid\n",
    "fig, axs = plt.subplots(1, 3, figsize=(12, 4))\n",
    "\n",
    "# Plot on a separate subplot\n",
    "graph.plot(kind='bar', x='category', y='avgPoints', rot=0, ax=axs[0], legend=False)\n",
    "graph.plot(kind='bar', x='category', y='winPercentage', rot=0, ax=axs[1], legend=False)\n",
    "graph.plot(kind='bar', x='category', y='avgProduction', rot=0, ax=axs[2], legend=False)\n",
    "\n",
    "# Set the plot title and axis labels for each subplot\n",
    "axs[0].set_title(\"Comparison of Points\")\n",
    "axs[0].set_xlabel(\"Category\")\n",
    "axs[0].set_ylabel(\"avgPoints\")\n",
    "axs[1].set_title(\"Comparison of Win Percentage\")\n",
    "axs[1].set_xlabel(\"Category\")\n",
    "axs[1].set_ylabel(\"winPercentage\")\n",
    "axs[2].set_title(\"Comparison of Production\")\n",
    "axs[2].set_xlabel(\"Category\")\n",
    "axs[2].set_ylabel(\"avgProduction\")\n",
    "\n",
    "\n",
    "# Adjust the layout and spacing of subplots\n",
    "plt.tight_layout()\n",
    "\n",
    "# Display the plot\n",
    "plt.show()"
   ]
  }
 ],
 "metadata": {
  "kernelspec": {
   "display_name": "base",
   "language": "python",
   "name": "python3"
  },
  "language_info": {
   "codemirror_mode": {
    "name": "ipython",
    "version": 3
   },
   "file_extension": ".py",
   "mimetype": "text/x-python",
   "name": "python",
   "nbconvert_exporter": "python",
   "pygments_lexer": "ipython3",
   "version": "3.10.9"
  },
  "orig_nbformat": 4
 },
 "nbformat": 4,
 "nbformat_minor": 2
}
