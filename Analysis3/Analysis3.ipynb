{
 "cells": [
  {
   "attachments": {},
   "cell_type": "markdown",
   "metadata": {},
   "source": [
    "# Analysis 3"
   ]
  },
  {
   "attachments": {},
   "cell_type": "markdown",
   "metadata": {},
   "source": [
    "## -- Pre-Processing --"
   ]
  },
  {
   "attachments": {},
   "cell_type": "markdown",
   "metadata": {},
   "source": [
    "Imports:"
   ]
  },
  {
   "cell_type": "code",
   "execution_count": 3,
   "metadata": {},
   "outputs": [],
   "source": [
    "import pandas as pd"
   ]
  },
  {
   "attachments": {},
   "cell_type": "markdown",
   "metadata": {},
   "source": [
    "1. Generate pp5.csv from pp4.csv \\\n",
    "\\\n",
    "Additional Columns: [pips, dScore]"
   ]
  },
  {
   "cell_type": "code",
   "execution_count": 4,
   "metadata": {},
   "outputs": [],
   "source": [
    "def pp5():\n",
    "    # Load Dataframe\n",
    "    df = pd.read_csv('pp4.csv')\n",
    "\n",
    "    # Define dictionary for pips\n",
    "    d = {2: 1, 3: 2, 4: 3, 5: 4, 6: 5, 8: 5, 9: 4, 10: 3, 11: 2, 12: 1}\n",
    "\n",
    "    # Define a function to compute pips\n",
    "    def compute_pips(row):\n",
    "        return sum([d.get(row[col], 0) for col in ['settlement1', 'Unnamed: 17', 'Unnamed: 19', 'settlement2', 'Unnamed: 23', 'Unnamed: 25']])\n",
    "\n",
    "    # Apply the function to each row of the DataFrame to create the new 'pips' column\n",
    "    df['pips'] = df.apply(compute_pips, axis=1)\n",
    "\n",
    "    # Compute dScore by calculating amount of unique data in a row\n",
    "    df['dScore'] = df[['Unnamed: 16', 'Unnamed: 18', 'Unnamed: 20', 'Unnamed: 22', 'Unnamed: 24', 'Unnamed: 26']].nunique(axis=1)\n",
    "\n",
    "    df.to_csv('pp5.csv', index=False)"
   ]
  },
  {
   "cell_type": "code",
   "execution_count": 5,
   "metadata": {},
   "outputs": [],
   "source": [
    "pp5()"
   ]
  },
  {
   "attachments": {},
   "cell_type": "markdown",
   "metadata": {},
   "source": [
    "pp5: Main data to be used for analysis"
   ]
  },
  {
   "attachments": {},
   "cell_type": "markdown",
   "metadata": {},
   "source": [
    "# -- Data Visualization --"
   ]
  },
  {
   "attachments": {},
   "cell_type": "markdown",
   "metadata": {},
   "source": [
    "Seeing the importance of diversity of resource"
   ]
  },
  {
   "attachments": {},
   "cell_type": "markdown",
   "metadata": {},
   "source": [
    "Imports:"
   ]
  },
  {
   "cell_type": "code",
   "execution_count": 6,
   "metadata": {},
   "outputs": [],
   "source": [
    "import matplotlib.pyplot as plt"
   ]
  },
  {
   "attachments": {},
   "cell_type": "markdown",
   "metadata": {},
   "source": [
    "1. Load data into dataframes"
   ]
  },
  {
   "cell_type": "code",
   "execution_count": 7,
   "metadata": {},
   "outputs": [],
   "source": [
    "df = pd.read_csv('pp5.csv')"
   ]
  },
  {
   "attachments": {},
   "cell_type": "markdown",
   "metadata": {},
   "source": [
    "2. Breakdown data by its 'dScore'"
   ]
  },
  {
   "cell_type": "code",
   "execution_count": 8,
   "metadata": {},
   "outputs": [],
   "source": [
    "df_d3 = df[(df['dScore'] == 3)]\n",
    "df_d4 = df[(df['dScore'] == 4)]\n",
    "df_d5 = df[(df['dScore'] == 5)]"
   ]
  },
  {
   "attachments": {},
   "cell_type": "markdown",
   "metadata": {},
   "source": [
    "3. Generate values of interest"
   ]
  },
  {
   "cell_type": "code",
   "execution_count": 19,
   "metadata": {},
   "outputs": [
    {
     "name": "stdout",
     "output_type": "stream",
     "text": [
      "Average Pips:\n",
      "d3: 20.933333333333334\n",
      "d4: 20.8\n",
      "d5: 20.372881355932204\n",
      "\n",
      "Average Points:\n",
      "d3: 6.533333333333333\n",
      "d4: 7.4125\n",
      "d5: 7.627118644067797\n",
      "\n",
      "Win Percentage:\n",
      "d3: 0.13333333333333333\n",
      "d4: 0.275\n",
      "d5: 0.288135593220339\n"
     ]
    }
   ],
   "source": [
    "# Generate statistics\n",
    "print('\\nAverage Points:')\n",
    "print('d3: ' + (str)(df_d3.mean(numeric_only=True)['points']))\n",
    "print('d4: ' + (str)(df_d4.mean(numeric_only=True)['points']))\n",
    "print('d5: ' + (str)(df_d5.mean(numeric_only=True)['points']))\n",
    "\n",
    "print('\\nWin Percentage:')\n",
    "print('d3: ' + (str)(df_d3.mean(numeric_only=True)['win']))\n",
    "print('d4: ' + (str)(df_d4.mean(numeric_only=True)['win']))\n",
    "print('d5: ' + (str)(df_d5.mean(numeric_only=True)['win']))"
   ]
  },
  {
   "attachments": {},
   "cell_type": "markdown",
   "metadata": {},
   "source": [
    "4. Graphing values of interest"
   ]
  },
  {
   "cell_type": "code",
   "execution_count": 23,
   "metadata": {},
   "outputs": [
    {
     "data": {
      "image/png": "[encoded data removed]",
      "text/plain": [
       "<Figure size 1200x400 with 2 Axes>"
      ]
     },
     "metadata": {},
     "output_type": "display_data"
    }
   ],
   "source": [
    "# Create a dataframe\n",
    "graph = pd.DataFrame({'category': ['d3', 'd4', 'd5'],\n",
    "                    'avgPoints': [df_d3.mean(numeric_only=True)['points'], \n",
    "                                  df_d4.mean(numeric_only=True)['points'], \n",
    "                                  df_d5.mean(numeric_only=True)['points']],\n",
    "                    'winPercentage': [df_d3.mean(numeric_only=True)['win'], \n",
    "                                  df_d4.mean(numeric_only=True)['win'], \n",
    "                                  df_d5.mean(numeric_only=True)['win']]})\n",
    "\n",
    "# Create a subplot grid\n",
    "fig, axs = plt.subplots(1, 2, figsize=(12, 4))\n",
    "\n",
    "# Plot on a separate subplot\n",
    "graph.plot(kind='bar', x='category', y='avgPoints', rot=0, ax=axs[0], legend=False)\n",
    "graph.plot(kind='bar', x='category', y='winPercentage', rot=0, ax=axs[1], legend=False)\n",
    "\n",
    "# Set the plot title and axis labels for each subplot\n",
    "axs[0].set_title(\"Average Points\")\n",
    "axs[0].set_xlabel(\"Category\")\n",
    "axs[0].set_ylabel(\"avgPoints\")\n",
    "axs[1].set_title(\"Win Percentage\")\n",
    "axs[1].set_xlabel(\"Category\")\n",
    "axs[1].set_ylabel(\"winPercentage\")\n",
    "\n",
    "\n",
    "# Adjust the layout and spacing of subplots\n",
    "plt.tight_layout()\n",
    "\n",
    "# Display the plot\n",
    "plt.show()"
   ]
  },
  {
   "attachments": {},
   "cell_type": "markdown",
   "metadata": {},
   "source": [
    "5. Generate extra information for further analysis"
   ]
  },
  {
   "cell_type": "code",
   "execution_count": 21,
   "metadata": {},
   "outputs": [
    {
     "name": "stdout",
     "output_type": "stream",
     "text": [
      "Average Pips:\n",
      "d3: 20.933333333333334\n",
      "d4: 20.8\n",
      "d5: 20.372881355932204\n",
      "\n",
      "Average Production:\n",
      "d3: 49.53333333333333\n",
      "d4: 53.2875\n",
      "d5: 55.016949152542374\n"
     ]
    }
   ],
   "source": [
    "# Average Pips\n",
    "print('Average Pips:')\n",
    "print('d3: ' + (str)(df_d3.mean(numeric_only=True)['pips']))\n",
    "print('d4: ' + (str)(df_d4.mean(numeric_only=True)['pips']))\n",
    "print('d5: ' + (str)(df_d5.mean(numeric_only=True)['pips']))\n",
    "\n",
    "# Average Production\n",
    "print('\\nAverage Production:')\n",
    "print('d3: ' + (str)(df_d3.mean(numeric_only=True)['production']))\n",
    "print('d4: ' + (str)(df_d4.mean(numeric_only=True)['production']))\n",
    "print('d5: ' + (str)(df_d5.mean(numeric_only=True)['production']))\n"
   ]
  },
  {
   "attachments": {},
   "cell_type": "markdown",
   "metadata": {},
   "source": [
    "6. Graphing extra information"
   ]
  },
  {
   "cell_type": "code",
   "execution_count": 24,
   "metadata": {},
   "outputs": [
    {
     "data": {
      "image/png": "[encoded data removed]",
      "text/plain": [
       "<Figure size 1200x400 with 2 Axes>"
      ]
     },
     "metadata": {},
     "output_type": "display_data"
    }
   ],
   "source": [
    "# Create a dataframe\n",
    "graph = pd.DataFrame({'category': ['d3', 'd4', 'd5'],\n",
    "                    'avgPoints': [df_d3.mean(numeric_only=True)['pips'], \n",
    "                                  df_d4.mean(numeric_only=True)['pips'], \n",
    "                                  df_d5.mean(numeric_only=True)['pips']],\n",
    "                    'winPercentage': [df_d3.mean(numeric_only=True)['production'], \n",
    "                                  df_d4.mean(numeric_only=True)['production'], \n",
    "                                  df_d5.mean(numeric_only=True)['production']]})\n",
    "\n",
    "# Create a subplot grid\n",
    "fig, axs = plt.subplots(1, 2, figsize=(12, 4))\n",
    "\n",
    "# Plot on a separate subplot\n",
    "graph.plot(kind='bar', x='category', y='avgPoints', rot=0, ax=axs[0], legend=False)\n",
    "graph.plot(kind='bar', x='category', y='winPercentage', rot=0, ax=axs[1], legend=False)\n",
    "\n",
    "# Set the plot title and axis labels for each subplot\n",
    "axs[0].set_title(\"Average Pips\")\n",
    "axs[0].set_xlabel(\"Category\")\n",
    "axs[0].set_ylabel(\"avgPips\")\n",
    "axs[1].set_title(\"Average Production\")\n",
    "axs[1].set_xlabel(\"Category\")\n",
    "axs[1].set_ylabel(\"avgProduction\")\n",
    "\n",
    "\n",
    "# Adjust the layout and spacing of subplots\n",
    "plt.tight_layout()\n",
    "\n",
    "# Display the plot\n",
    "plt.show()"
   ]
  }
 ],
 "metadata": {
  "kernelspec": {
   "display_name": "base",
   "language": "python",
   "name": "python3"
  },
  "language_info": {
   "codemirror_mode": {
    "name": "ipython",
    "version": 3
   },
   "file_extension": ".py",
   "mimetype": "text/x-python",
   "name": "python",
   "nbconvert_exporter": "python",
   "pygments_lexer": "ipython3",
   "version": "3.10.9"
  },
  "orig_nbformat": 4
 },
 "nbformat": 4,
 "nbformat_minor": 2
}
