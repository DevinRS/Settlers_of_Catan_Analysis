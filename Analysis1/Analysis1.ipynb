{
 "cells": [
  {
   "attachments": {},
   "cell_type": "markdown",
   "metadata": {},
   "source": [
    "# Analysis 1"
   ]
  },
  {
   "attachments": {},
   "cell_type": "markdown",
   "metadata": {},
   "source": [
    "## -- Pre-Processing --"
   ]
  },
  {
   "attachments": {},
   "cell_type": "markdown",
   "metadata": {},
   "source": [
    "Imports: "
   ]
  },
  {
   "cell_type": "code",
   "execution_count": 1,
   "metadata": {},
   "outputs": [],
   "source": [
    "import pandas as pd"
   ]
  },
  {
   "attachments": {},
   "cell_type": "markdown",
   "metadata": {},
   "source": [
    "1. Generate pp1.csv \\\n",
    "\\\n",
    "    Removed Columns: ['gameNum', 'player', 'me', '2', '3', '4', '5', '6', '7', '8', '9', '10', '11', '12', \\\n",
    "            'settlement1', 'settlement2']"
   ]
  },
  {
   "attachments": {},
   "cell_type": "markdown",
   "metadata": {},
   "source": [
    "2. Generate pp2.csv \\\n",
    "\\\n",
    "Removed Columns: ['totalGain', 'totalLoss', 'totalAvailable']"
   ]
  },
  {
   "cell_type": "code",
   "execution_count": 2,
   "metadata": {},
   "outputs": [],
   "source": [
    "def pp1():\n",
    "    # Load Dataframe\n",
    "    df = pd.read_csv('catanstats.csv')\n",
    "\n",
    "    # Remove Unwanted Features\n",
    "    drop = ['gameNum', 'player', 'me', '2', '3', '4', '5', '6', '7', '8', '9', '10', '11', '12',\n",
    "            'settlement1', 'settlement2']\n",
    "    df.drop(drop, axis=1, inplace=True)\n",
    "    for i in range(1,11):\n",
    "        df.drop(df.columns[1], axis=1, inplace=True)\n",
    "\n",
    "    df.to_csv('pp1.csv', index=False)\n",
    "\n",
    "def pp2():\n",
    "    # Load Dataframe\n",
    "    df = pd.read_csv('pp1.csv')\n",
    "\n",
    "    # Remove Unwanted Features\n",
    "    drop = ['totalGain', 'totalLoss', 'totalAvailable']\n",
    "    df.drop(drop, axis=1, inplace=True)\n",
    "    df.to_csv('pp2.csv', index=False)"
   ]
  },
  {
   "attachments": {},
   "cell_type": "markdown",
   "metadata": {},
   "source": [
    "3. Generate new datasets"
   ]
  },
  {
   "cell_type": "code",
   "execution_count": 3,
   "metadata": {},
   "outputs": [],
   "source": [
    "pp1()\n",
    "pp2()"
   ]
  },
  {
   "attachments": {},
   "cell_type": "markdown",
   "metadata": {},
   "source": [
    "PP1: Contains data for visual analysis \\\n",
    "PP2: Contains data for finding specific important features using Elastic Net Regression"
   ]
  },
  {
   "attachments": {},
   "cell_type": "markdown",
   "metadata": {},
   "source": [
    "## -- Data Visualization --"
   ]
  },
  {
   "attachments": {},
   "cell_type": "markdown",
   "metadata": {},
   "source": [
    "Imports: "
   ]
  },
  {
   "cell_type": "code",
   "execution_count": 4,
   "metadata": {},
   "outputs": [],
   "source": [
    "import matplotlib.pylab as plt\n",
    "import seaborn as sns"
   ]
  },
  {
   "attachments": {},
   "cell_type": "markdown",
   "metadata": {},
   "source": [
    "1. Load data into a dataframe"
   ]
  },
  {
   "cell_type": "code",
   "execution_count": 5,
   "metadata": {},
   "outputs": [
    {
     "name": "stdout",
     "output_type": "stream",
     "text": [
      "   points  production  tradeGain  robberCardsGain  totalGain  tradeLoss  \\\n",
      "0       5          38          5                2         45         10   \n",
      "1       9          48          8                6         62         11   \n",
      "2      10          44         14                9         67         24   \n",
      "3       5          42         12                0         54         24   \n",
      "4      10          60         15               16         91         28   \n",
      "5       6          57         12                1         70         26   \n",
      "6       4          44         10                8         62         18   \n",
      "7       9          61         16               11         88         25   \n",
      "8       5          44          5                5         54         11   \n",
      "9      10          41          4                9         54          8   \n",
      "\n",
      "   robberCardsLoss  tribute  totalLoss  totalAvailable  \n",
      "0                2        4         16              29  \n",
      "1                1        8         20              42  \n",
      "2                4        0         28              39  \n",
      "3                6        0         30              24  \n",
      "4               10        0         38              53  \n",
      "5                6        8         40              30  \n",
      "6                6        8         32              30  \n",
      "7                6        4         35              53  \n",
      "8                1        9         21              33  \n",
      "9                3        0         11              43  \n"
     ]
    }
   ],
   "source": [
    "df = pd.read_csv('pp1.csv')\n",
    "print(df.head(10))"
   ]
  },
  {
   "attachments": {},
   "cell_type": "markdown",
   "metadata": {},
   "source": [
    "2. Generate pairplot for the major feautres to see how it affect points"
   ]
  },
  {
   "cell_type": "code",
   "execution_count": 6,
   "metadata": {},
   "outputs": [
    {
     "data": {
      "image/png": "[encoded data removed]",
      "text/plain": [
       "<Figure size 750x250 with 3 Axes>"
      ]
     },
     "metadata": {},
     "output_type": "display_data"
    }
   ],
   "source": [
    "sns.pairplot(df, x_vars=['totalGain', 'totalLoss', 'totalAvailable'], y_vars=['points'])\n",
    "plt.show()"
   ]
  },
  {
   "attachments": {},
   "cell_type": "markdown",
   "metadata": {},
   "source": [
    "## -- Regression Analysis --"
   ]
  },
  {
   "attachments": {},
   "cell_type": "markdown",
   "metadata": {},
   "source": [
    "Imports: "
   ]
  },
  {
   "cell_type": "code",
   "execution_count": 25,
   "metadata": {},
   "outputs": [],
   "source": [
    "from sklearn.linear_model import ElasticNet\n",
    "from sklearn.model_selection import train_test_split\n",
    "from sklearn.metrics import mean_squared_error\n",
    "from sklearn.preprocessing import StandardScaler"
   ]
  },
  {
   "attachments": {},
   "cell_type": "markdown",
   "metadata": {},
   "source": [
    "1. Load data into dataframe and set X, Y for regressor"
   ]
  },
  {
   "cell_type": "code",
   "execution_count": 26,
   "metadata": {},
   "outputs": [],
   "source": [
    "df = pd.read_csv('pp2.csv')\n",
    "\n",
    "Y = df['points']\n",
    "X = df.drop('points', axis=1)"
   ]
  },
  {
   "attachments": {},
   "cell_type": "markdown",
   "metadata": {},
   "source": [
    "2. Standardized the data to compare features"
   ]
  },
  {
   "cell_type": "code",
   "execution_count": 27,
   "metadata": {},
   "outputs": [
    {
     "name": "stdout",
     "output_type": "stream",
     "text": [
      "     production  tradeGain  robberCardsGain  tradeLoss  robberCardsLoss  \\\n",
      "0     -0.901269  -0.817795        -0.972315  -0.840006        -0.835797   \n",
      "1     -0.251940  -0.132492        -0.104177  -0.732036        -1.088304   \n",
      "2     -0.511671   1.238114         0.546927   0.671573        -0.330784   \n",
      "3     -0.641537   0.781246        -1.406385   0.671573         0.174230   \n",
      "4      0.527255   1.466549         2.066170   1.103453         1.184257   \n",
      "..          ...        ...              ...        ...              ...   \n",
      "195   -0.706470  -0.132492         0.980997   0.455633        -0.330784   \n",
      "196   -0.706470  -0.589361         0.112858  -0.408126         0.174230   \n",
      "197    0.786987  -0.817795         0.546927  -0.300156         0.174230   \n",
      "198   -0.511671  -0.360926        -0.538246   0.455633        -1.088304   \n",
      "199    0.332457  -1.274664        -0.321211  -1.703766         1.689270   \n",
      "\n",
      "      tribute  \n",
      "0   -0.199490  \n",
      "1    0.549768  \n",
      "2   -0.948749  \n",
      "3   -0.948749  \n",
      "4   -0.948749  \n",
      "..        ...  \n",
      "195 -0.948749  \n",
      "196 -0.199490  \n",
      "197  0.924398  \n",
      "198  0.549768  \n",
      "199  0.549768  \n",
      "\n",
      "[200 rows x 6 columns]\n"
     ]
    }
   ],
   "source": [
    "scaler = StandardScaler()\n",
    "X = pd.DataFrame(scaler.fit_transform(X), columns=X.columns)\n",
    "print(X)"
   ]
  },
  {
   "attachments": {},
   "cell_type": "markdown",
   "metadata": {},
   "source": [
    "3. Find a model that has the smallest mean squared error by iterating through 10^4 times"
   ]
  },
  {
   "cell_type": "code",
   "execution_count": 15,
   "metadata": {},
   "outputs": [],
   "source": [
    "minimalError = 10000\n",
    "bestModel = ElasticNet()\n",
    "for i in range(0, 10**4):\n",
    "\n",
    "    X_train, X_test, Y_train, Y_test = train_test_split(X, Y, test_size=0.1)\n",
    "\n",
    "    model = ElasticNet()\n",
    "    model.fit(X_train, Y_train)\n",
    "\n",
    "    Y_pred = model.predict(X_test)\n",
    "\n",
    "    if(mean_squared_error(Y_test, Y_pred) < minimalError):\n",
    "        minimalError = mean_squared_error(Y_test, Y_pred)\n",
    "        bestModel = model"
   ]
  },
  {
   "attachments": {},
   "cell_type": "markdown",
   "metadata": {},
   "source": [
    "4. Get the coefficient values for each individual features"
   ]
  },
  {
   "cell_type": "code",
   "execution_count": 16,
   "metadata": {},
   "outputs": [
    {
     "name": "stdout",
     "output_type": "stream",
     "text": [
      "meanSquaredError: 1.0492653585410927\n",
      "Intercept: 7.290507769431564\n",
      "Feature 0: 0.6191676600767094\n",
      "Feature 1: 0.0\n",
      "Feature 2: 0.0794819239320997\n",
      "Feature 3: 0.0\n",
      "Feature 4: 0.0\n",
      "Feature 5: -0.0\n",
      "[0.6191676600767094, 0.0, 0.0794819239320997, 0.0, 0.0, -0.0]\n"
     ]
    }
   ],
   "source": [
    "values = []\n",
    "print('meanSquaredError: ' + str(minimalError))\n",
    "print('Intercept: ' + str(bestModel.intercept_))\n",
    "for i in range(0, 6):\n",
    "    print('Feature ' + str(i) + ': ' + str(bestModel.coef_[i]))\n",
    "    values.append(bestModel.coef_[i])\n",
    "\n",
    "print(values)"
   ]
  },
  {
   "attachments": {},
   "cell_type": "markdown",
   "metadata": {},
   "source": [
    "5. Create a bar chart to visually compare feature importance"
   ]
  },
  {
   "cell_type": "code",
   "execution_count": 24,
   "metadata": {},
   "outputs": [
    {
     "data": {
      "image/png": "[encoded data removed]",
      "text/plain": [
       "<Figure size 640x480 with 1 Axes>"
      ]
     },
     "metadata": {},
     "output_type": "display_data"
    }
   ],
   "source": [
    "d = {'Features': ['production', 'tradeGain', 'robberCardsGain', 'tradeLoss', 'robberCardsLoss', 'tribute'],\n",
    "     'Coef': [values[0], values[1], values[2], values[3], values[4], values[5],]}\n",
    "\n",
    "dfResult = pd.DataFrame(d)\n",
    "plt.bar(dfResult['Features'], dfResult['Coef'])\n",
    "# add labels to the chart\n",
    "plt.title('Bar Chart')\n",
    "plt.xlabel('Feature')\n",
    "plt.ylabel('Importance')\n",
    "\n",
    "# display the chart\n",
    "plt.show()"
   ]
  }
 ],
 "metadata": {
  "kernelspec": {
   "display_name": "Python 3",
   "language": "python",
   "name": "python3"
  },
  "language_info": {
   "codemirror_mode": {
    "name": "ipython",
    "version": 3
   },
   "file_extension": ".py",
   "mimetype": "text/x-python",
   "name": "python",
   "nbconvert_exporter": "python",
   "pygments_lexer": "ipython3",
   "version": "3.10.9"
  },
  "orig_nbformat": 4
 },
 "nbformat": 4,
 "nbformat_minor": 2
}
